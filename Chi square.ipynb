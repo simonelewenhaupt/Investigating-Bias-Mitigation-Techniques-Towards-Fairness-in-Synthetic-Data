{
 "cells": [
  {
   "cell_type": "markdown",
   "id": "b31c6521",
   "metadata": {},
   "source": [
    "## Actual positives race-AA, comparing real and syntheticx1000"
   ]
  },
  {
   "cell_type": "code",
   "execution_count": 1,
   "id": "d993012e",
   "metadata": {},
   "outputs": [
    {
     "name": "stdout",
     "output_type": "stream",
     "text": [
      "Chi-square statistic: 9.672080524836623\n",
      "p-value: 0.001870893270881003\n",
      "Reject the null hypothesis (H0)\n",
      "There is a significant association between real and synthetic data.\n"
     ]
    }
   ],
   "source": [
    "import numpy as np\n",
    "from scipy.stats import chi2_contingency\n",
    "\n",
    "# Create the contingency table\n",
    "actual_negatives = np.array([[852, 302], [396, 92]])\n",
    "\n",
    "# Perform the Chi-square test\n",
    "chi2, p_value, _, _ = chi2_contingency(actual_negatives)\n",
    "\n",
    "# Print the test result\n",
    "print(\"Chi-square statistic:\", chi2)\n",
    "print(\"p-value:\", p_value)\n",
    "\n",
    "# Define the significance level\n",
    "alpha = 0.05\n",
    "\n",
    "# Compare p-value with significance level\n",
    "if p_value < alpha:\n",
    "    print(\"Reject the null hypothesis (H0)\")\n",
    "    print(\"There is a significant association between real and synthetic data.\")\n",
    "else:\n",
    "    print(\"Fail to reject the null hypothesis (H0)\")\n",
    "    print(\"There is no significant association between real and synthetic data.\")\n"
   ]
  },
  {
   "cell_type": "markdown",
   "id": "3a8fba33",
   "metadata": {},
   "source": [
    "## Actual negatives race-AA, comparing real and syntheticx1000"
   ]
  },
  {
   "cell_type": "code",
   "execution_count": 2,
   "id": "db1d5f6d",
   "metadata": {},
   "outputs": [
    {
     "name": "stdout",
     "output_type": "stream",
     "text": [
      "Chi-square statistic: 347.8927434122194\n",
      "p-value: 1.2190695573877093e-77\n",
      "Reject the null hypothesis (H0)\n",
      "There is a significant association between real and synthetic data.\n"
     ]
    }
   ],
   "source": [
    "# Create the contingency table\n",
    "actual_negatives = np.array([[648, 302], [83, 418]])\n",
    "\n",
    "# Perform the Chi-square test\n",
    "chi2, p_value, _, _ = chi2_contingency(actual_negatives)\n",
    "\n",
    "# Print the test result\n",
    "print(\"Chi-square statistic:\", chi2)\n",
    "print(\"p-value:\", p_value)\n",
    "\n",
    "# Define the significance level\n",
    "alpha = 0.05\n",
    "\n",
    "# Compare p-value with significance level\n",
    "if p_value < alpha:\n",
    "    print(\"Reject the null hypothesis (H0)\")\n",
    "    print(\"There is a significant association between real and synthetic data.\")\n",
    "else:\n",
    "    print(\"Fail to reject the null hypothesis (H0)\")\n",
    "    print(\"There is no significant association between real and synthetic data.\")\n"
   ]
  },
  {
   "cell_type": "markdown",
   "id": "644c5828",
   "metadata": {},
   "source": [
    "## Actual positives race-C, comparing real and syntheticx1000"
   ]
  },
  {
   "cell_type": "code",
   "execution_count": 3,
   "id": "acd678d0",
   "metadata": {},
   "outputs": [
    {
     "name": "stdout",
     "output_type": "stream",
     "text": [
      "Chi-square statistic: 89.37245297432918\n",
      "p-value: 3.270590998923791e-21\n",
      "Reject the null hypothesis (H0)\n",
      "There is a significant association between real and synthetic data.\n"
     ]
    }
   ],
   "source": [
    "# Create the contingency table\n",
    "actual_negatives = np.array([[342, 232], [443, 75]])\n",
    "\n",
    "# Perform the Chi-square test\n",
    "chi2, p_value, _, _ = chi2_contingency(actual_negatives)\n",
    "\n",
    "# Print the test result\n",
    "print(\"Chi-square statistic:\", chi2)\n",
    "print(\"p-value:\", p_value)\n",
    "\n",
    "# Define the significance level\n",
    "alpha = 0.05\n",
    "\n",
    "# Compare p-value with significance level\n",
    "if p_value < alpha:\n",
    "    print(\"Reject the null hypothesis (H0)\")\n",
    "    print(\"There is a significant association between real and synthetic data.\")\n",
    "else:\n",
    "    print(\"Fail to reject the null hypothesis (H0)\")\n",
    "    print(\"There is no significant association between real and synthetic data.\")\n"
   ]
  },
  {
   "cell_type": "markdown",
   "id": "ed0b9467",
   "metadata": {},
   "source": [
    "## Actual negatives race-C, comparing real and syntheticx1000"
   ]
  },
  {
   "cell_type": "code",
   "execution_count": 4,
   "id": "820dfaa0",
   "metadata": {},
   "outputs": [
    {
     "name": "stdout",
     "output_type": "stream",
     "text": [
      "Chi-square statistic: 422.1490936237595\n",
      "p-value: 8.311385615780597e-94\n",
      "Reject the null hypothesis (H0)\n",
      "There is a significant association between real and synthetic data.\n"
     ]
    }
   ],
   "source": [
    "# Create the contingency table\n",
    "actual_negatives = np.array([[679, 220], [80, 387]])\n",
    "\n",
    "# Perform the Chi-square test\n",
    "chi2, p_value, _, _ = chi2_contingency(actual_negatives)\n",
    "\n",
    "# Print the test result\n",
    "print(\"Chi-square statistic:\", chi2)\n",
    "print(\"p-value:\", p_value)\n",
    "\n",
    "# Define the significance level\n",
    "alpha = 0.05\n",
    "\n",
    "# Compare p-value with significance level\n",
    "if p_value < alpha:\n",
    "    print(\"Reject the null hypothesis (H0)\")\n",
    "    print(\"There is a significant association between real and synthetic data.\")\n",
    "else:\n",
    "    print(\"Fail to reject the null hypothesis (H0)\")\n",
    "    print(\"There is no significant association between real and synthetic data.\")"
   ]
  },
  {
   "cell_type": "markdown",
   "id": "a4807531",
   "metadata": {},
   "source": [
    "## Actual positives race-H, comparing real and syntheticx1000"
   ]
  },
  {
   "cell_type": "code",
   "execution_count": 5,
   "id": "a3eadfee",
   "metadata": {},
   "outputs": [
    {
     "name": "stdout",
     "output_type": "stream",
     "text": [
      "Chi-square statistic: 69.86556372549019\n",
      "p-value: 6.348718670677062e-17\n",
      "Reject the null hypothesis (H0)\n",
      "There is a significant association between real and synthetic data.\n"
     ]
    }
   ],
   "source": [
    "# Create the contingency table\n",
    "actual_negatives = np.array([[68, 59], [442, 66]])\n",
    "\n",
    "# Perform the Chi-square test\n",
    "chi2, p_value, _, _ = chi2_contingency(actual_negatives)\n",
    "\n",
    "# Print the test result\n",
    "print(\"Chi-square statistic:\", chi2)\n",
    "print(\"p-value:\", p_value)\n",
    "\n",
    "# Define the significance level\n",
    "alpha = 0.05\n",
    "\n",
    "# Compare p-value with significance level\n",
    "if p_value < alpha:\n",
    "    print(\"Reject the null hypothesis (H0)\")\n",
    "    print(\"There is a significant association between real and synthetic data.\")\n",
    "else:\n",
    "    print(\"Fail to reject the null hypothesis (H0)\")\n",
    "    print(\"There is no significant association between real and synthetic data.\")"
   ]
  },
  {
   "cell_type": "markdown",
   "id": "e766e907",
   "metadata": {},
   "source": [
    "## Actual negatives race-H, comparing real and syntheticx1000"
   ]
  },
  {
   "cell_type": "code",
   "execution_count": 6,
   "id": "20432e90",
   "metadata": {},
   "outputs": [
    {
     "name": "stdout",
     "output_type": "stream",
     "text": [
      "Chi-square statistic: 241.4934555093803\n",
      "p-value: 1.858102574063462e-54\n",
      "Reject the null hypothesis (H0)\n",
      "There is a significant association between real and synthetic data.\n"
     ]
    }
   ],
   "source": [
    "# Create the contingency table\n",
    "actual_negatives = np.array([[174, 54], [79, 406]])\n",
    "\n",
    "# Perform the Chi-square test\n",
    "chi2, p_value, _, _ = chi2_contingency(actual_negatives)\n",
    "\n",
    "# Print the test result\n",
    "print(\"Chi-square statistic:\", chi2)\n",
    "print(\"p-value:\", p_value)\n",
    "\n",
    "# Define the significance level\n",
    "alpha = 0.05\n",
    "\n",
    "# Compare p-value with significance level\n",
    "if p_value < alpha:\n",
    "    print(\"Reject the null hypothesis (H0)\")\n",
    "    print(\"There is a significant association between real and synthetic data.\")\n",
    "else:\n",
    "    print(\"Fail to reject the null hypothesis (H0)\")\n",
    "    print(\"There is no significant association between real and synthetic data.\")"
   ]
  },
  {
   "cell_type": "markdown",
   "id": "b97f091b",
   "metadata": {},
   "source": [
    "## Actual positives race-O, comparing real and syntheticx1000"
   ]
  },
  {
   "cell_type": "code",
   "execution_count": 7,
   "id": "32cc4822",
   "metadata": {},
   "outputs": [
    {
     "name": "stdout",
     "output_type": "stream",
     "text": [
      "Chi-square statistic: 16.02723112202483\n",
      "p-value: 6.243795511648017e-05\n",
      "Reject the null hypothesis (H0)\n",
      "There is a significant association between real and synthetic data.\n"
     ]
    }
   ],
   "source": [
    "# Create the contingency table\n",
    "actual_negatives = np.array([[56, 32], [402, 83]])\n",
    "\n",
    "# Perform the Chi-square test\n",
    "chi2, p_value, _, _ = chi2_contingency(actual_negatives)\n",
    "\n",
    "# Print the test result\n",
    "print(\"Chi-square statistic:\", chi2)\n",
    "print(\"p-value:\", p_value)\n",
    "\n",
    "# Define the significance level\n",
    "alpha = 0.05\n",
    "\n",
    "# Compare p-value with significance level\n",
    "if p_value < alpha:\n",
    "    print(\"Reject the null hypothesis (H0)\")\n",
    "    print(\"There is a significant association between real and synthetic data.\")\n",
    "else:\n",
    "    print(\"Fail to reject the null hypothesis (H0)\")\n",
    "    print(\"There is no significant association between real and synthetic data.\")"
   ]
  },
  {
   "cell_type": "markdown",
   "id": "e7f2a988",
   "metadata": {},
   "source": [
    "## Actual negatives race-O, comparing real and syntheticx1000"
   ]
  },
  {
   "cell_type": "code",
   "execution_count": 8,
   "id": "cd7902e0",
   "metadata": {},
   "outputs": [
    {
     "name": "stdout",
     "output_type": "stream",
     "text": [
      "Chi-square statistic: 212.37448843078124\n",
      "p-value: 4.167093662473792e-48\n",
      "Reject the null hypothesis (H0)\n",
      "There is a significant association between real and synthetic data.\n"
     ]
    }
   ],
   "source": [
    "# Create the contingency table\n",
    "actual_negatives = np.array([[131, 27], [98, 408]])\n",
    "\n",
    "# Perform the Chi-square test\n",
    "chi2, p_value, _, _ = chi2_contingency(actual_negatives)\n",
    "\n",
    "# Print the test result\n",
    "print(\"Chi-square statistic:\", chi2)\n",
    "print(\"p-value:\", p_value)\n",
    "\n",
    "# Define the significance level\n",
    "alpha = 0.05\n",
    "\n",
    "# Compare p-value with significance level\n",
    "if p_value < alpha:\n",
    "    print(\"Reject the null hypothesis (H0)\")\n",
    "    print(\"There is a significant association between real and synthetic data.\")\n",
    "else:\n",
    "    print(\"Fail to reject the null hypothesis (H0)\")\n",
    "    print(\"There is no significant association between real and synthetic data.\")"
   ]
  },
  {
   "cell_type": "markdown",
   "id": "31ad7bb8",
   "metadata": {},
   "source": [
    "## Actual positives race-A, comparing real and syntheticx1000"
   ]
  },
  {
   "cell_type": "code",
   "execution_count": 9,
   "id": "f00463b6",
   "metadata": {},
   "outputs": [
    {
     "name": "stdout",
     "output_type": "stream",
     "text": [
      "Chi-square statistic: 11.9112179370592\n",
      "p-value: 0.0005579690696924036\n",
      "Reject the null hypothesis (H0)\n",
      "There is a significant association between real and synthetic data.\n"
     ]
    }
   ],
   "source": [
    "# Create the contingency table\n",
    "actual_negatives = np.array([[1, 3], [514, 56]])\n",
    "\n",
    "# Perform the Chi-square test\n",
    "chi2, p_value, _, _ = chi2_contingency(actual_negatives)\n",
    "\n",
    "# Print the test result\n",
    "print(\"Chi-square statistic:\", chi2)\n",
    "print(\"p-value:\", p_value)\n",
    "\n",
    "# Define the significance level\n",
    "alpha = 0.05\n",
    "\n",
    "# Compare p-value with significance level\n",
    "if p_value < alpha:\n",
    "    print(\"Reject the null hypothesis (H0)\")\n",
    "    print(\"There is a significant association between real and synthetic data.\")\n",
    "else:\n",
    "    print(\"Fail to reject the null hypothesis (H0)\")\n",
    "    print(\"There is no significant association between real and synthetic data.\")"
   ]
  },
  {
   "cell_type": "markdown",
   "id": "496cf0bf",
   "metadata": {},
   "source": [
    "## Actual negatives race-A, comparing real and syntheticx1000"
   ]
  },
  {
   "cell_type": "code",
   "execution_count": 10,
   "id": "f2889483",
   "metadata": {},
   "outputs": [
    {
     "name": "stdout",
     "output_type": "stream",
     "text": [
      "Chi-square statistic: 68.33452184674661\n",
      "p-value: 1.3798407306028883e-16\n",
      "Reject the null hypothesis (H0)\n",
      "There is a significant association between real and synthetic data.\n"
     ]
    }
   ],
   "source": [
    "# Create the contingency table\n",
    "actual_negatives = np.array([[14, 0], [57, 366]])\n",
    "\n",
    "# Perform the Chi-square test\n",
    "chi2, p_value, _, _ = chi2_contingency(actual_negatives)\n",
    "\n",
    "# Print the test result\n",
    "print(\"Chi-square statistic:\", chi2)\n",
    "print(\"p-value:\", p_value)\n",
    "\n",
    "# Define the significance level\n",
    "alpha = 0.05\n",
    "\n",
    "# Compare p-value with significance level\n",
    "if p_value < alpha:\n",
    "    print(\"Reject the null hypothesis (H0)\")\n",
    "    print(\"There is a significant association between real and synthetic data.\")\n",
    "else:\n",
    "    print(\"Fail to reject the null hypothesis (H0)\")\n",
    "    print(\"There is no significant association between real and synthetic data.\")"
   ]
  },
  {
   "cell_type": "markdown",
   "id": "8eba8559",
   "metadata": {},
   "source": [
    "## Actual positives race-NA, comparing real and syntheticx1000"
   ]
  },
  {
   "cell_type": "code",
   "execution_count": 11,
   "id": "491d286a",
   "metadata": {},
   "outputs": [
    {
     "name": "stdout",
     "output_type": "stream",
     "text": [
      "Chi-square statistic: 61.24975106963069\n",
      "p-value: 5.027491768339468e-15\n",
      "Reject the null hypothesis (H0)\n",
      "There is a significant association between real and synthetic data.\n"
     ]
    }
   ],
   "source": [
    "# Create the contingency table\n",
    "actual_negatives = np.array([[1, 1], [493, 0]])\n",
    "\n",
    "# Perform the Chi-square test\n",
    "chi2, p_value, _, _ = chi2_contingency(actual_negatives)\n",
    "\n",
    "# Print the test result\n",
    "print(\"Chi-square statistic:\", chi2)\n",
    "print(\"p-value:\", p_value)\n",
    "\n",
    "# Define the significance level\n",
    "alpha = 0.05\n",
    "\n",
    "# Compare p-value with significance level\n",
    "if p_value < alpha:\n",
    "    print(\"Reject the null hypothesis (H0)\")\n",
    "    print(\"There is a significant association between real and synthetic data.\")\n",
    "else:\n",
    "    print(\"Fail to reject the null hypothesis (H0)\")\n",
    "    print(\"There is no significant association between real and synthetic data.\")"
   ]
  },
  {
   "cell_type": "markdown",
   "id": "b5fb315c",
   "metadata": {},
   "source": [
    "## Actual negatives race-NA, comparing real and syntheticx1000"
   ]
  },
  {
   "cell_type": "code",
   "execution_count": 12,
   "id": "e540ea41",
   "metadata": {},
   "outputs": [
    {
     "name": "stdout",
     "output_type": "stream",
     "text": [
      "Chi-square statistic: 185.99623192785745\n",
      "p-value: 2.3785649598385053e-42\n",
      "Reject the null hypothesis (H0)\n",
      "There is a significant association between real and synthetic data.\n"
     ]
    }
   ],
   "source": [
    "# Create the contingency table\n",
    "actual_negatives = np.array([[2, 1], [0, 496]])\n",
    "\n",
    "# Perform the Chi-square test\n",
    "chi2, p_value, _, _ = chi2_contingency(actual_negatives)\n",
    "\n",
    "# Print the test result\n",
    "print(\"Chi-square statistic:\", chi2)\n",
    "print(\"p-value:\", p_value)\n",
    "\n",
    "# Define the significance level\n",
    "alpha = 0.05\n",
    "\n",
    "# Compare p-value with significance level\n",
    "if p_value < alpha:\n",
    "    print(\"Reject the null hypothesis (H0)\")\n",
    "    print(\"There is a significant association between real and synthetic data.\")\n",
    "else:\n",
    "    print(\"Fail to reject the null hypothesis (H0)\")\n",
    "    print(\"There is no significant association between real and synthetic data.\")"
   ]
  },
  {
   "cell_type": "markdown",
   "id": "c635ebe4",
   "metadata": {},
   "source": [
    "# Between Races"
   ]
  },
  {
   "cell_type": "markdown",
   "id": "c80e4b34",
   "metadata": {},
   "source": [
    "## Actual positives in real data"
   ]
  },
  {
   "cell_type": "code",
   "execution_count": 17,
   "id": "d3a40739",
   "metadata": {},
   "outputs": [
    {
     "name": "stdout",
     "output_type": "stream",
     "text": [
      "Chi-square statistic: 49.52656225322637\n",
      "p-value: 1.0076747359989983e-10\n",
      "Reject the null hypothesis (H0)\n",
      "There is a significant association between the races in the real data.\n"
     ]
    }
   ],
   "source": [
    "# Create the contingency table\n",
    "actual_positives = np.array([[852, 302], [342, 232], [68, 59], [56, 32]])\n",
    "\n",
    "# Perform the Chi-square test\n",
    "chi2, p_value, _, _ = chi2_contingency(actual_positives)\n",
    "\n",
    "# Print the test result\n",
    "print(\"Chi-square statistic:\", chi2)\n",
    "print(\"p-value:\", p_value)\n",
    "\n",
    "# Define the significance level\n",
    "alpha = 0.01\n",
    "\n",
    "# Compare p-value with significance level\n",
    "if p_value < alpha:\n",
    "    print(\"Reject the null hypothesis (H0)\")\n",
    "    print(\"There is a significant association between the races in the real data.\")\n",
    "else:\n",
    "    print(\"Fail to reject the null hypothesis (H0)\")\n",
    "    print(\"There is no significant association between the races in the real data.\")"
   ]
  },
  {
   "cell_type": "markdown",
   "id": "acd1f585",
   "metadata": {},
   "source": [
    "## Actual negatives in real data"
   ]
  },
  {
   "cell_type": "code",
   "execution_count": 18,
   "id": "94040c54",
   "metadata": {},
   "outputs": [
    {
     "name": "stdout",
     "output_type": "stream",
     "text": [
      "Chi-square statistic: 70.40074535591748\n",
      "p-value: 3.5030279349905794e-15\n",
      "Reject the null hypothesis (H0)\n",
      "There is a significant association between the races in the real data.\n"
     ]
    }
   ],
   "source": [
    "# Create the contingency table\n",
    "actual_positives = np.array([[648, 415], [679, 220], [174, 54], [131, 27]])\n",
    "\n",
    "# Perform the Chi-square test\n",
    "chi2, p_value, _, _ = chi2_contingency(actual_positives)\n",
    "\n",
    "# Print the test result\n",
    "print(\"Chi-square statistic:\", chi2)\n",
    "print(\"p-value:\", p_value)\n",
    "\n",
    "# Define the significance level\n",
    "alpha = 0.01\n",
    "\n",
    "# Compare p-value with significance level\n",
    "if p_value < alpha:\n",
    "    print(\"Reject the null hypothesis (H0)\")\n",
    "    print(\"There is a significant association between the races in the real data.\")\n",
    "else:\n",
    "    print(\"Fail to reject the null hypothesis (H0)\")\n",
    "    print(\"There is no significant association between the races in the real data.\")"
   ]
  },
  {
   "cell_type": "markdown",
   "id": "ac5d55b8",
   "metadata": {},
   "source": [
    "## Actual positives in synthetic data"
   ]
  },
  {
   "cell_type": "code",
   "execution_count": 23,
   "id": "053ace3f",
   "metadata": {},
   "outputs": [
    {
     "name": "stdout",
     "output_type": "stream",
     "text": [
      "Chi-square statistic: 21.13404381708336\n",
      "p-value: 0.00029786690516944573\n",
      "Reject the null hypothesis (H0)\n",
      "There is a significant association between the races in the synthetic data.\n"
     ]
    }
   ],
   "source": [
    "# Create the contingency table\n",
    "actual_positives = np.array([[396, 92], [443, 75], [442, 66], [402, 83], [514, 56]])\n",
    "\n",
    "# Perform the Chi-square test\n",
    "chi2, p_value, _, _ = chi2_contingency(actual_positives)\n",
    "\n",
    "# Print the test result\n",
    "print(\"Chi-square statistic:\", chi2)\n",
    "print(\"p-value:\", p_value)\n",
    "\n",
    "# Define the significance level\n",
    "alpha = 0.01\n",
    "\n",
    "# Compare p-value with significance level\n",
    "if p_value < alpha:\n",
    "    print(\"Reject the null hypothesis (H0)\")\n",
    "    print(\"There is a significant association between the races in the synthetic data.\")\n",
    "else:\n",
    "    print(\"Fail to reject the null hypothesis (H0)\")\n",
    "    print(\"There is no significant association between the races in the synthetic data.\")"
   ]
  },
  {
   "cell_type": "markdown",
   "id": "8f4499ff",
   "metadata": {},
   "source": [
    "## Actual negatives in synthetic data"
   ]
  },
  {
   "cell_type": "code",
   "execution_count": 24,
   "id": "301a374e",
   "metadata": {},
   "outputs": [
    {
     "name": "stdout",
     "output_type": "stream",
     "text": [
      "Chi-square statistic: 5.885701764705317\n",
      "p-value: 0.20784828873398328\n",
      "Fail to reject the null hypothesis (H0)\n",
      "There is no significant association between the races in the synthetic data.\n"
     ]
    }
   ],
   "source": [
    "# Create the contingency table\n",
    "actual_positives = np.array([[83, 418], [80, 387], [79, 406], [98, 408], [57, 366]])\n",
    "\n",
    "# Perform the Chi-square test\n",
    "chi2, p_value, _, _ = chi2_contingency(actual_positives)\n",
    "\n",
    "# Print the test result\n",
    "print(\"Chi-square statistic:\", chi2)\n",
    "print(\"p-value:\", p_value)\n",
    "\n",
    "# Define the significance level\n",
    "alpha = 0.01\n",
    "\n",
    "# Compare p-value with significance level\n",
    "if p_value < alpha:\n",
    "    print(\"Reject the null hypothesis (H0)\")\n",
    "    print(\"There is a significant association between the races in the synthetic data.\")\n",
    "else:\n",
    "    print(\"Fail to reject the null hypothesis (H0)\")\n",
    "    print(\"There is no significant association between the races in the synthetic data.\")"
   ]
  },
  {
   "cell_type": "markdown",
   "id": "3aff399d",
   "metadata": {},
   "source": [
    "# Testing"
   ]
  },
  {
   "cell_type": "code",
   "execution_count": 25,
   "id": "e18a352d",
   "metadata": {},
   "outputs": [
    {
     "name": "stdout",
     "output_type": "stream",
     "text": [
      "Chi-square statistic: 7.73375601248794\n",
      "p-value: 0.051846884431517574\n",
      "Fail to reject the null hypothesis (H0)\n",
      "There is no significant association between the races in the synthetic data.\n"
     ]
    }
   ],
   "source": [
    "# Create the contingency table\n",
    "actual_positives = np.array([[396, 92], [443, 75], [442, 66], [402, 83]])\n",
    "\n",
    "# Perform the Chi-square test\n",
    "chi2, p_value, _, _ = chi2_contingency(actual_positives)\n",
    "\n",
    "# Print the test result\n",
    "print(\"Chi-square statistic:\", chi2)\n",
    "print(\"p-value:\", p_value)\n",
    "\n",
    "# Define the significance level\n",
    "alpha = 0.01\n",
    "\n",
    "# Compare p-value with significance level\n",
    "if p_value < alpha:\n",
    "    print(\"Reject the null hypothesis (H0)\")\n",
    "    print(\"There is a significant association between the races in the synthetic data.\")\n",
    "else:\n",
    "    print(\"Fail to reject the null hypothesis (H0)\")\n",
    "    print(\"There is no significant association between the races in the synthetic data.\")"
   ]
  },
  {
   "cell_type": "code",
   "execution_count": 26,
   "id": "994dfae8",
   "metadata": {},
   "outputs": [
    {
     "name": "stdout",
     "output_type": "stream",
     "text": [
      "Chi-square statistic: 2.0467401141652863\n",
      "p-value: 0.5627625097915929\n",
      "Fail to reject the null hypothesis (H0)\n",
      "There is no significant association between the races in the synthetic data.\n"
     ]
    }
   ],
   "source": [
    "# Create the contingency table\n",
    "actual_positives = np.array([[83, 418], [80, 387], [79, 406], [98, 408]])\n",
    "\n",
    "# Perform the Chi-square test\n",
    "chi2, p_value, _, _ = chi2_contingency(actual_positives)\n",
    "\n",
    "# Print the test result\n",
    "print(\"Chi-square statistic:\", chi2)\n",
    "print(\"p-value:\", p_value)\n",
    "\n",
    "# Define the significance level\n",
    "alpha = 0.01\n",
    "\n",
    "# Compare p-value with significance level\n",
    "if p_value < alpha:\n",
    "    print(\"Reject the null hypothesis (H0)\")\n",
    "    print(\"There is a significant association between the races in the synthetic data.\")\n",
    "else:\n",
    "    print(\"Fail to reject the null hypothesis (H0)\")\n",
    "    print(\"There is no significant association between the races in the synthetic data.\")"
   ]
  },
  {
   "cell_type": "code",
   "execution_count": null,
   "id": "7b6f6ca3",
   "metadata": {},
   "outputs": [],
   "source": []
  }
 ],
 "metadata": {
  "kernelspec": {
   "display_name": "Python 3 (ipykernel)",
   "language": "python",
   "name": "python3"
  },
  "language_info": {
   "codemirror_mode": {
    "name": "ipython",
    "version": 3
   },
   "file_extension": ".py",
   "mimetype": "text/x-python",
   "name": "python",
   "nbconvert_exporter": "python",
   "pygments_lexer": "ipython3",
   "version": "3.10.1"
  }
 },
 "nbformat": 4,
 "nbformat_minor": 5
}
